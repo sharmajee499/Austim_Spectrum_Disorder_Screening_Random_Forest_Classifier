{
 "cells": [
  {
   "cell_type": "code",
   "execution_count": 1,
   "metadata": {},
   "outputs": [],
   "source": [
    "#Importing the libraries\n",
    "import pandas as pd\n",
    "import numpy as np\n",
    "import matplotlib.pyplot as plt\n",
    "import seaborn as sns"
   ]
  },
  {
   "cell_type": "code",
   "execution_count": 2,
   "metadata": {},
   "outputs": [],
   "source": [
    "#importing the dataset\n",
    "column_name= ['A1_Score','A2_Score','A3_Score','A4_Score','A5_Score','A6_Score','A7_Score','A8_Score','A9_Score','A10_Score','Age', 'Gender','Ethnicity', 'Jundice',\n",
    "             'Austim','Country_of_Residence','used_app','result','age_desc','relation','Class']\n",
    "df= pd.read_csv(r\"C:\\Users\\Sunnation\\Desktop\\Autism-Adult-Data Plus Description File\\Autism-Adult-Data - ONLY.arff\", names=column_name)"
   ]
  },
  {
   "cell_type": "code",
   "execution_count": 3,
   "metadata": {},
   "outputs": [
    {
     "name": "stdout",
     "output_type": "stream",
     "text": [
      "<class 'pandas.core.frame.DataFrame'>\n",
      "RangeIndex: 704 entries, 0 to 703\n",
      "Data columns (total 21 columns):\n",
      " #   Column                Non-Null Count  Dtype \n",
      "---  ------                --------------  ----- \n",
      " 0   A1_Score              704 non-null    int64 \n",
      " 1   A2_Score              704 non-null    int64 \n",
      " 2   A3_Score              704 non-null    int64 \n",
      " 3   A4_Score              704 non-null    int64 \n",
      " 4   A5_Score              704 non-null    int64 \n",
      " 5   A6_Score              704 non-null    int64 \n",
      " 6   A7_Score              704 non-null    int64 \n",
      " 7   A8_Score              704 non-null    int64 \n",
      " 8   A9_Score              704 non-null    int64 \n",
      " 9   A10_Score             704 non-null    int64 \n",
      " 10  Age                   704 non-null    object\n",
      " 11  Gender                704 non-null    object\n",
      " 12  Ethnicity             704 non-null    object\n",
      " 13  Jundice               704 non-null    object\n",
      " 14  Austim                704 non-null    object\n",
      " 15  Country_of_Residence  704 non-null    object\n",
      " 16  used_app              704 non-null    object\n",
      " 17  result                704 non-null    int64 \n",
      " 18  age_desc              704 non-null    object\n",
      " 19  relation              704 non-null    object\n",
      " 20  Class                 704 non-null    object\n",
      "dtypes: int64(11), object(10)\n",
      "memory usage: 115.6+ KB\n"
     ]
    }
   ],
   "source": [
    "#Looking the info\n",
    "df.head()\n",
    "df.tail()\n",
    "df.info()"
   ]
  },
  {
   "cell_type": "code",
   "execution_count": 4,
   "metadata": {},
   "outputs": [
    {
     "name": "stderr",
     "output_type": "stream",
     "text": [
      "C:\\Users\\Sunnation\\anaconda3\\lib\\site-packages\\pandas\\core\\ops\\array_ops.py:253: FutureWarning: elementwise comparison failed; returning scalar instead, but in the future will perform elementwise comparison\n",
      "  res_values = method(rvalues)\n"
     ]
    },
    {
     "data": {
      "text/html": [
       "<div>\n",
       "<style scoped>\n",
       "    .dataframe tbody tr th:only-of-type {\n",
       "        vertical-align: middle;\n",
       "    }\n",
       "\n",
       "    .dataframe tbody tr th {\n",
       "        vertical-align: top;\n",
       "    }\n",
       "\n",
       "    .dataframe thead th {\n",
       "        text-align: right;\n",
       "    }\n",
       "</style>\n",
       "<table border=\"1\" class=\"dataframe\">\n",
       "  <thead>\n",
       "    <tr style=\"text-align: right;\">\n",
       "      <th></th>\n",
       "      <th>A1_Score</th>\n",
       "      <th>A2_Score</th>\n",
       "      <th>A3_Score</th>\n",
       "      <th>A4_Score</th>\n",
       "      <th>A5_Score</th>\n",
       "      <th>A6_Score</th>\n",
       "      <th>A7_Score</th>\n",
       "      <th>A8_Score</th>\n",
       "      <th>A9_Score</th>\n",
       "      <th>A10_Score</th>\n",
       "      <th>...</th>\n",
       "      <th>Gender</th>\n",
       "      <th>Ethnicity</th>\n",
       "      <th>Jundice</th>\n",
       "      <th>Austim</th>\n",
       "      <th>Country_of_Residence</th>\n",
       "      <th>used_app</th>\n",
       "      <th>result</th>\n",
       "      <th>age_desc</th>\n",
       "      <th>relation</th>\n",
       "      <th>Class</th>\n",
       "    </tr>\n",
       "  </thead>\n",
       "  <tbody>\n",
       "    <tr>\n",
       "      <th>0</th>\n",
       "      <td>1</td>\n",
       "      <td>1</td>\n",
       "      <td>1</td>\n",
       "      <td>1</td>\n",
       "      <td>0</td>\n",
       "      <td>0</td>\n",
       "      <td>1</td>\n",
       "      <td>1</td>\n",
       "      <td>0</td>\n",
       "      <td>0</td>\n",
       "      <td>...</td>\n",
       "      <td>f</td>\n",
       "      <td>White-European</td>\n",
       "      <td>no</td>\n",
       "      <td>no</td>\n",
       "      <td>'United States'</td>\n",
       "      <td>no</td>\n",
       "      <td>6</td>\n",
       "      <td>'18 and more'</td>\n",
       "      <td>Self</td>\n",
       "      <td>NO</td>\n",
       "    </tr>\n",
       "    <tr>\n",
       "      <th>1</th>\n",
       "      <td>1</td>\n",
       "      <td>1</td>\n",
       "      <td>0</td>\n",
       "      <td>1</td>\n",
       "      <td>0</td>\n",
       "      <td>0</td>\n",
       "      <td>0</td>\n",
       "      <td>1</td>\n",
       "      <td>0</td>\n",
       "      <td>1</td>\n",
       "      <td>...</td>\n",
       "      <td>m</td>\n",
       "      <td>Latino</td>\n",
       "      <td>no</td>\n",
       "      <td>yes</td>\n",
       "      <td>Brazil</td>\n",
       "      <td>no</td>\n",
       "      <td>5</td>\n",
       "      <td>'18 and more'</td>\n",
       "      <td>Self</td>\n",
       "      <td>NO</td>\n",
       "    </tr>\n",
       "    <tr>\n",
       "      <th>2</th>\n",
       "      <td>1</td>\n",
       "      <td>1</td>\n",
       "      <td>0</td>\n",
       "      <td>1</td>\n",
       "      <td>1</td>\n",
       "      <td>0</td>\n",
       "      <td>1</td>\n",
       "      <td>1</td>\n",
       "      <td>1</td>\n",
       "      <td>1</td>\n",
       "      <td>...</td>\n",
       "      <td>m</td>\n",
       "      <td>Latino</td>\n",
       "      <td>yes</td>\n",
       "      <td>yes</td>\n",
       "      <td>Spain</td>\n",
       "      <td>no</td>\n",
       "      <td>8</td>\n",
       "      <td>'18 and more'</td>\n",
       "      <td>Parent</td>\n",
       "      <td>YES</td>\n",
       "    </tr>\n",
       "    <tr>\n",
       "      <th>3</th>\n",
       "      <td>1</td>\n",
       "      <td>1</td>\n",
       "      <td>0</td>\n",
       "      <td>1</td>\n",
       "      <td>0</td>\n",
       "      <td>0</td>\n",
       "      <td>1</td>\n",
       "      <td>1</td>\n",
       "      <td>0</td>\n",
       "      <td>1</td>\n",
       "      <td>...</td>\n",
       "      <td>f</td>\n",
       "      <td>White-European</td>\n",
       "      <td>no</td>\n",
       "      <td>yes</td>\n",
       "      <td>'United States'</td>\n",
       "      <td>no</td>\n",
       "      <td>6</td>\n",
       "      <td>'18 and more'</td>\n",
       "      <td>Self</td>\n",
       "      <td>NO</td>\n",
       "    </tr>\n",
       "    <tr>\n",
       "      <th>4</th>\n",
       "      <td>1</td>\n",
       "      <td>0</td>\n",
       "      <td>0</td>\n",
       "      <td>0</td>\n",
       "      <td>0</td>\n",
       "      <td>0</td>\n",
       "      <td>0</td>\n",
       "      <td>1</td>\n",
       "      <td>0</td>\n",
       "      <td>0</td>\n",
       "      <td>...</td>\n",
       "      <td>f</td>\n",
       "      <td>NaN</td>\n",
       "      <td>no</td>\n",
       "      <td>no</td>\n",
       "      <td>Egypt</td>\n",
       "      <td>no</td>\n",
       "      <td>2</td>\n",
       "      <td>'18 and more'</td>\n",
       "      <td>NaN</td>\n",
       "      <td>NO</td>\n",
       "    </tr>\n",
       "  </tbody>\n",
       "</table>\n",
       "<p>5 rows × 21 columns</p>\n",
       "</div>"
      ],
      "text/plain": [
       "  A1_Score A2_Score A3_Score A4_Score A5_Score A6_Score A7_Score A8_Score  \\\n",
       "0        1        1        1        1        0        0        1        1   \n",
       "1        1        1        0        1        0        0        0        1   \n",
       "2        1        1        0        1        1        0        1        1   \n",
       "3        1        1        0        1        0        0        1        1   \n",
       "4        1        0        0        0        0        0        0        1   \n",
       "\n",
       "  A9_Score A10_Score  ... Gender       Ethnicity Jundice Austim  \\\n",
       "0        0         0  ...      f  White-European      no     no   \n",
       "1        0         1  ...      m          Latino      no    yes   \n",
       "2        1         1  ...      m          Latino     yes    yes   \n",
       "3        0         1  ...      f  White-European      no    yes   \n",
       "4        0         0  ...      f             NaN      no     no   \n",
       "\n",
       "  Country_of_Residence used_app result       age_desc relation Class  \n",
       "0      'United States'       no      6  '18 and more'     Self    NO  \n",
       "1               Brazil       no      5  '18 and more'     Self    NO  \n",
       "2                Spain       no      8  '18 and more'   Parent   YES  \n",
       "3      'United States'       no      6  '18 and more'     Self    NO  \n",
       "4                Egypt       no      2  '18 and more'      NaN    NO  \n",
       "\n",
       "[5 rows x 21 columns]"
      ]
     },
     "execution_count": 4,
     "metadata": {},
     "output_type": "execute_result"
    }
   ],
   "source": [
    "#changing the '?' to Nan value\n",
    "df1=np.where(df=='?',np.NaN,df)\n",
    "df1= pd.DataFrame(df1, columns= column_name)\n",
    "df1.head()"
   ]
  },
  {
   "cell_type": "code",
   "execution_count": 5,
   "metadata": {},
   "outputs": [
    {
     "name": "stdout",
     "output_type": "stream",
     "text": [
      "A1_Score                 0\n",
      "A2_Score                 0\n",
      "A3_Score                 0\n",
      "A4_Score                 0\n",
      "A5_Score                 0\n",
      "A6_Score                 0\n",
      "A7_Score                 0\n",
      "A8_Score                 0\n",
      "A9_Score                 0\n",
      "A10_Score                0\n",
      "Age                      2\n",
      "Gender                   0\n",
      "Ethnicity               95\n",
      "Jundice                  0\n",
      "Austim                   0\n",
      "Country_of_Residence     0\n",
      "used_app                 0\n",
      "result                   0\n",
      "age_desc                 0\n",
      "relation                95\n",
      "Class                    0\n",
      "dtype: int64\n",
      "<class 'pandas.core.frame.DataFrame'>\n",
      "RangeIndex: 704 entries, 0 to 703\n",
      "Data columns (total 21 columns):\n",
      " #   Column                Non-Null Count  Dtype \n",
      "---  ------                --------------  ----- \n",
      " 0   A1_Score              704 non-null    object\n",
      " 1   A2_Score              704 non-null    object\n",
      " 2   A3_Score              704 non-null    object\n",
      " 3   A4_Score              704 non-null    object\n",
      " 4   A5_Score              704 non-null    object\n",
      " 5   A6_Score              704 non-null    object\n",
      " 6   A7_Score              704 non-null    object\n",
      " 7   A8_Score              704 non-null    object\n",
      " 8   A9_Score              704 non-null    object\n",
      " 9   A10_Score             704 non-null    object\n",
      " 10  Age                   702 non-null    object\n",
      " 11  Gender                704 non-null    object\n",
      " 12  Ethnicity             609 non-null    object\n",
      " 13  Jundice               704 non-null    object\n",
      " 14  Austim                704 non-null    object\n",
      " 15  Country_of_Residence  704 non-null    object\n",
      " 16  used_app              704 non-null    object\n",
      " 17  result                704 non-null    object\n",
      " 18  age_desc              704 non-null    object\n",
      " 19  relation              609 non-null    object\n",
      " 20  Class                 704 non-null    object\n",
      "dtypes: object(21)\n",
      "memory usage: 115.6+ KB\n"
     ]
    }
   ],
   "source": [
    "#Finding the NaN values in the \n",
    "print(df1.isnull().sum())\n",
    "# the missing values are on Age, Etnicity, Relation\n",
    "df1.info()"
   ]
  },
  {
   "cell_type": "code",
   "execution_count": 20,
   "metadata": {},
   "outputs": [
    {
     "data": {
      "text/html": [
       "<div>\n",
       "<style scoped>\n",
       "    .dataframe tbody tr th:only-of-type {\n",
       "        vertical-align: middle;\n",
       "    }\n",
       "\n",
       "    .dataframe tbody tr th {\n",
       "        vertical-align: top;\n",
       "    }\n",
       "\n",
       "    .dataframe thead th {\n",
       "        text-align: right;\n",
       "    }\n",
       "</style>\n",
       "<table border=\"1\" class=\"dataframe\">\n",
       "  <thead>\n",
       "    <tr style=\"text-align: right;\">\n",
       "      <th></th>\n",
       "      <th>A1_Score</th>\n",
       "      <th>A2_Score</th>\n",
       "      <th>A3_Score</th>\n",
       "      <th>A4_Score</th>\n",
       "      <th>A5_Score</th>\n",
       "      <th>A6_Score</th>\n",
       "      <th>A7_Score</th>\n",
       "      <th>A8_Score</th>\n",
       "      <th>A9_Score</th>\n",
       "      <th>A10_Score</th>\n",
       "      <th>...</th>\n",
       "      <th>Gender</th>\n",
       "      <th>Ethnicity</th>\n",
       "      <th>Jundice</th>\n",
       "      <th>Austim</th>\n",
       "      <th>Country_of_Residence</th>\n",
       "      <th>used_app</th>\n",
       "      <th>result</th>\n",
       "      <th>age_desc</th>\n",
       "      <th>relation</th>\n",
       "      <th>Class</th>\n",
       "    </tr>\n",
       "  </thead>\n",
       "  <tbody>\n",
       "    <tr>\n",
       "      <th>0</th>\n",
       "      <td>1</td>\n",
       "      <td>1</td>\n",
       "      <td>1</td>\n",
       "      <td>1</td>\n",
       "      <td>0</td>\n",
       "      <td>0</td>\n",
       "      <td>1</td>\n",
       "      <td>1</td>\n",
       "      <td>0</td>\n",
       "      <td>0</td>\n",
       "      <td>...</td>\n",
       "      <td>f</td>\n",
       "      <td>White-European</td>\n",
       "      <td>no</td>\n",
       "      <td>no</td>\n",
       "      <td>'United States'</td>\n",
       "      <td>no</td>\n",
       "      <td>6</td>\n",
       "      <td>'18 and more'</td>\n",
       "      <td>Self</td>\n",
       "      <td>NO</td>\n",
       "    </tr>\n",
       "    <tr>\n",
       "      <th>1</th>\n",
       "      <td>1</td>\n",
       "      <td>1</td>\n",
       "      <td>0</td>\n",
       "      <td>1</td>\n",
       "      <td>0</td>\n",
       "      <td>0</td>\n",
       "      <td>0</td>\n",
       "      <td>1</td>\n",
       "      <td>0</td>\n",
       "      <td>1</td>\n",
       "      <td>...</td>\n",
       "      <td>m</td>\n",
       "      <td>Latino</td>\n",
       "      <td>no</td>\n",
       "      <td>yes</td>\n",
       "      <td>Brazil</td>\n",
       "      <td>no</td>\n",
       "      <td>5</td>\n",
       "      <td>'18 and more'</td>\n",
       "      <td>Self</td>\n",
       "      <td>NO</td>\n",
       "    </tr>\n",
       "    <tr>\n",
       "      <th>2</th>\n",
       "      <td>1</td>\n",
       "      <td>1</td>\n",
       "      <td>0</td>\n",
       "      <td>1</td>\n",
       "      <td>1</td>\n",
       "      <td>0</td>\n",
       "      <td>1</td>\n",
       "      <td>1</td>\n",
       "      <td>1</td>\n",
       "      <td>1</td>\n",
       "      <td>...</td>\n",
       "      <td>m</td>\n",
       "      <td>Latino</td>\n",
       "      <td>yes</td>\n",
       "      <td>yes</td>\n",
       "      <td>Spain</td>\n",
       "      <td>no</td>\n",
       "      <td>8</td>\n",
       "      <td>'18 and more'</td>\n",
       "      <td>Parent</td>\n",
       "      <td>YES</td>\n",
       "    </tr>\n",
       "    <tr>\n",
       "      <th>3</th>\n",
       "      <td>1</td>\n",
       "      <td>1</td>\n",
       "      <td>0</td>\n",
       "      <td>1</td>\n",
       "      <td>0</td>\n",
       "      <td>0</td>\n",
       "      <td>1</td>\n",
       "      <td>1</td>\n",
       "      <td>0</td>\n",
       "      <td>1</td>\n",
       "      <td>...</td>\n",
       "      <td>f</td>\n",
       "      <td>White-European</td>\n",
       "      <td>no</td>\n",
       "      <td>yes</td>\n",
       "      <td>'United States'</td>\n",
       "      <td>no</td>\n",
       "      <td>6</td>\n",
       "      <td>'18 and more'</td>\n",
       "      <td>Self</td>\n",
       "      <td>NO</td>\n",
       "    </tr>\n",
       "    <tr>\n",
       "      <th>4</th>\n",
       "      <td>1</td>\n",
       "      <td>0</td>\n",
       "      <td>0</td>\n",
       "      <td>0</td>\n",
       "      <td>0</td>\n",
       "      <td>0</td>\n",
       "      <td>0</td>\n",
       "      <td>1</td>\n",
       "      <td>0</td>\n",
       "      <td>0</td>\n",
       "      <td>...</td>\n",
       "      <td>f</td>\n",
       "      <td>NaN</td>\n",
       "      <td>no</td>\n",
       "      <td>no</td>\n",
       "      <td>Egypt</td>\n",
       "      <td>no</td>\n",
       "      <td>2</td>\n",
       "      <td>'18 and more'</td>\n",
       "      <td>NaN</td>\n",
       "      <td>NO</td>\n",
       "    </tr>\n",
       "  </tbody>\n",
       "</table>\n",
       "<p>5 rows × 21 columns</p>\n",
       "</div>"
      ],
      "text/plain": [
       "  A1_Score A2_Score A3_Score A4_Score A5_Score A6_Score A7_Score A8_Score  \\\n",
       "0        1        1        1        1        0        0        1        1   \n",
       "1        1        1        0        1        0        0        0        1   \n",
       "2        1        1        0        1        1        0        1        1   \n",
       "3        1        1        0        1        0        0        1        1   \n",
       "4        1        0        0        0        0        0        0        1   \n",
       "\n",
       "  A9_Score A10_Score  ... Gender       Ethnicity Jundice Austim  \\\n",
       "0        0         0  ...      f  White-European      no     no   \n",
       "1        0         1  ...      m          Latino      no    yes   \n",
       "2        1         1  ...      m          Latino     yes    yes   \n",
       "3        0         1  ...      f  White-European      no    yes   \n",
       "4        0         0  ...      f             NaN      no     no   \n",
       "\n",
       "  Country_of_Residence used_app result       age_desc relation Class  \n",
       "0      'United States'       no      6  '18 and more'     Self    NO  \n",
       "1               Brazil       no      5  '18 and more'     Self    NO  \n",
       "2                Spain       no      8  '18 and more'   Parent   YES  \n",
       "3      'United States'       no      6  '18 and more'     Self    NO  \n",
       "4                Egypt       no      2  '18 and more'      NaN    NO  \n",
       "\n",
       "[5 rows x 21 columns]"
      ]
     },
     "execution_count": 20,
     "metadata": {},
     "output_type": "execute_result"
    }
   ],
   "source": [
    "df1.head()"
   ]
  },
  {
   "cell_type": "code",
   "execution_count": 7,
   "metadata": {},
   "outputs": [
    {
     "name": "stdout",
     "output_type": "stream",
     "text": [
      "<class 'pandas.core.frame.DataFrame'>\n",
      "RangeIndex: 704 entries, 0 to 703\n",
      "Data columns (total 21 columns):\n",
      " #   Column                Non-Null Count  Dtype \n",
      "---  ------                --------------  ----- \n",
      " 0   A1_Score              704 non-null    object\n",
      " 1   A2_Score              704 non-null    object\n",
      " 2   A3_Score              704 non-null    object\n",
      " 3   A4_Score              704 non-null    object\n",
      " 4   A5_Score              704 non-null    object\n",
      " 5   A6_Score              704 non-null    object\n",
      " 6   A7_Score              704 non-null    object\n",
      " 7   A8_Score              704 non-null    object\n",
      " 8   A9_Score              704 non-null    object\n",
      " 9   A10_Score             704 non-null    object\n",
      " 10  Age                   702 non-null    object\n",
      " 11  Gender                704 non-null    object\n",
      " 12  Ethnicity             609 non-null    object\n",
      " 13  Jundice               704 non-null    object\n",
      " 14  Austim                704 non-null    object\n",
      " 15  Country_of_Residence  704 non-null    object\n",
      " 16  used_app              704 non-null    object\n",
      " 17  result                704 non-null    object\n",
      " 18  age_desc              704 non-null    object\n",
      " 19  relation              609 non-null    object\n",
      " 20  Class                 704 non-null    object\n",
      "dtypes: object(21)\n",
      "memory usage: 115.6+ KB\n"
     ]
    }
   ],
   "source": [
    "#Changing the 'Yes' and \"No\" to 1 and 0 respectively\n",
    "df2=np.where((df1=='no'), 0, df1)\n",
    "df2=np.where((df1=='NO'), 0, df2)\n",
    "df2=np.where((df1=='yes'), 1, df2)\n",
    "df2=np.where((df1=='YES'), 1, df2)\n",
    "df2= pd.DataFrame(df2,columns=column_name)\n",
    "df2.info()"
   ]
  },
  {
   "cell_type": "code",
   "execution_count": 8,
   "metadata": {},
   "outputs": [
    {
     "name": "stdout",
     "output_type": "stream",
     "text": [
      "<class 'pandas.core.frame.DataFrame'>\n",
      "Int64Index: 609 entries, 0 to 703\n",
      "Data columns (total 21 columns):\n",
      " #   Column                Non-Null Count  Dtype \n",
      "---  ------                --------------  ----- \n",
      " 0   A1_Score              609 non-null    Int64 \n",
      " 1   A2_Score              609 non-null    Int64 \n",
      " 2   A3_Score              609 non-null    Int64 \n",
      " 3   A4_Score              609 non-null    Int64 \n",
      " 4   A5_Score              609 non-null    Int64 \n",
      " 5   A6_Score              609 non-null    Int64 \n",
      " 6   A7_Score              609 non-null    Int64 \n",
      " 7   A8_Score              609 non-null    Int64 \n",
      " 8   A9_Score              609 non-null    Int64 \n",
      " 9   A10_Score             609 non-null    Int64 \n",
      " 10  Age                   609 non-null    int64 \n",
      " 11  Gender                609 non-null    string\n",
      " 12  Ethnicity             609 non-null    string\n",
      " 13  Jundice               609 non-null    Int64 \n",
      " 14  Austim                609 non-null    Int64 \n",
      " 15  Country_of_Residence  609 non-null    string\n",
      " 16  used_app              609 non-null    Int64 \n",
      " 17  result                609 non-null    Int64 \n",
      " 18  age_desc              609 non-null    string\n",
      " 19  relation              609 non-null    string\n",
      " 20  Class                 609 non-null    Int64 \n",
      "dtypes: Int64(15), int64(1), string(5)\n",
      "memory usage: 113.6 KB\n"
     ]
    }
   ],
   "source": [
    "#dropped all the NA's from the dataframe. The age column has 2 missing value, and Ethnicity and relation null value can'e be replaced by the any means.\n",
    "#The reason for dropping the values instead of imputing is that most of the missing values are in 'Ethnicity' and 'relation' columns\n",
    "#they are catagorical variable and has different values so, imputation was possible however, it wouldn't make sense while generalizing.\n",
    "df2=df2.dropna(axis=0)\n",
    "\n",
    "#converting to respective data types\n",
    "df2= df2.convert_dtypes()\n",
    "\n",
    "df2['Age']=df2['Age'].astype('int64')\n",
    "\n",
    "df2.info()"
   ]
  },
  {
   "cell_type": "code",
   "execution_count": 9,
   "metadata": {},
   "outputs": [],
   "source": [
    "#making a instance of new cleaned datafrmae\n",
    "data= df2\n",
    "data.head()\n",
    "\n",
    "#dropping the country of residence as it has plenty of names, and which seems non-informative\n",
    "data.drop(columns=['Country_of_Residence'],inplace=True)"
   ]
  },
  {
   "cell_type": "code",
   "execution_count": 10,
   "metadata": {},
   "outputs": [
    {
     "name": "stdout",
     "output_type": "stream",
     "text": [
      "    A1_Score  A2_Score  A3_Score  A4_Score  A5_Score  A6_Score  A7_Score  \\\n",
      "52         1         0         0         0         0         0         0   \n",
      "\n",
      "    A8_Score  A9_Score  A10_Score  Age Gender Ethnicity  Jundice  Austim  \\\n",
      "52         0         0          0  383      f  Pasifika        0       0   \n",
      "\n",
      "    used_app  result       age_desc relation  Class  \n",
      "52         0       1  '18 and more'     Self      0  \n"
     ]
    },
    {
     "name": "stderr",
     "output_type": "stream",
     "text": [
      "C:\\Users\\Sunnation\\anaconda3\\lib\\site-packages\\ipykernel_launcher.py:6: SettingWithCopyWarning: \n",
      "A value is trying to be set on a copy of a slice from a DataFrame\n",
      "\n",
      "See the caveats in the documentation: https://pandas.pydata.org/pandas-docs/stable/user_guide/indexing.html#returning-a-view-versus-a-copy\n",
      "  \n"
     ]
    },
    {
     "data": {
      "image/png": "[encoded data removed]",
      "text/plain": [
       "<Figure size 432x288 with 1 Axes>"
      ]
     },
     "metadata": {
      "needs_background": "light"
     },
     "output_type": "display_data"
    }
   ],
   "source": [
    "#Visualization\n",
    "sns.boxplot(y='Age', hue='Class', data=data)\n",
    "#from the plot we can see that I value is around 400 which is impossible, so changing that to mean of total age\n",
    "print(data[data['Age']>300])\n",
    "#the row number 52 has outlier and changing that to the mean\n",
    "data['Age'][52]=data['Age'].mean()"
   ]
  },
  {
   "cell_type": "code",
   "execution_count": 11,
   "metadata": {},
   "outputs": [],
   "source": [
    "#Making the dummy variables\n",
    "data.head()\n",
    "dummy_data=pd.get_dummies(data, columns=['Gender', 'Ethnicity', 'age_desc', 'relation'], drop_first=True)"
   ]
  },
  {
   "cell_type": "code",
   "execution_count": 26,
   "metadata": {},
   "outputs": [],
   "source": [
    "new_col_name=['A1_Score', 'A2_Score', 'A3_Score', 'A4_Score', 'A5_Score', 'A6_Score',\n",
    "       'A7_Score', 'A8_Score', 'A9_Score', 'A10_Score', 'Age', 'Jundice',\n",
    "       'Austim', 'used_app', 'result', 'Class', 'Gender_m',\n",
    "       'Ethnicity_South_Asian', 'Ethnicity_Asian', 'Ethnicity_Black',\n",
    "       'Ethnicity_Hispanic', 'Ethnicity_Latino', 'Ethnicity_Others',\n",
    "       'Ethnicity_Pasifika', 'Ethnicity_Turkish', 'Ethnicity_White-European',\n",
    "       'Ethnicity_others', 'relation_Others', 'relation_Parent',\n",
    "       'relation_Relative', 'relation_Self']\n",
    "dummy_data.columns=new_col_name"
   ]
  },
  {
   "cell_type": "code",
   "execution_count": 29,
   "metadata": {},
   "outputs": [
    {
     "name": "stdout",
     "output_type": "stream",
     "text": [
      "<class 'pandas.core.frame.DataFrame'>\n",
      "Int64Index: 609 entries, 0 to 703\n",
      "Data columns (total 31 columns):\n",
      " #   Column                    Non-Null Count  Dtype\n",
      "---  ------                    --------------  -----\n",
      " 0   A1_Score                  609 non-null    Int64\n",
      " 1   A2_Score                  609 non-null    Int64\n",
      " 2   A3_Score                  609 non-null    Int64\n",
      " 3   A4_Score                  609 non-null    Int64\n",
      " 4   A5_Score                  609 non-null    Int64\n",
      " 5   A6_Score                  609 non-null    Int64\n",
      " 6   A7_Score                  609 non-null    Int64\n",
      " 7   A8_Score                  609 non-null    Int64\n",
      " 8   A9_Score                  609 non-null    Int64\n",
      " 9   A10_Score                 609 non-null    Int64\n",
      " 10  Age                       609 non-null    int64\n",
      " 11  Jundice                   609 non-null    Int64\n",
      " 12  Austim                    609 non-null    Int64\n",
      " 13  used_app                  609 non-null    Int64\n",
      " 14  result                    609 non-null    Int64\n",
      " 15  Class                     609 non-null    Int64\n",
      " 16  Gender_m                  609 non-null    uint8\n",
      " 17  Ethnicity_South_Asian     609 non-null    uint8\n",
      " 18  Ethnicity_Asian           609 non-null    uint8\n",
      " 19  Ethnicity_Black           609 non-null    uint8\n",
      " 20  Ethnicity_Hispanic        609 non-null    uint8\n",
      " 21  Ethnicity_Latino          609 non-null    uint8\n",
      " 22  Ethnicity_Others          609 non-null    uint8\n",
      " 23  Ethnicity_Pasifika        609 non-null    uint8\n",
      " 24  Ethnicity_Turkish         609 non-null    uint8\n",
      " 25  Ethnicity_White-European  609 non-null    uint8\n",
      " 26  Ethnicity_others          609 non-null    uint8\n",
      " 27  relation_Others           609 non-null    uint8\n",
      " 28  relation_Parent           609 non-null    uint8\n",
      " 29  relation_Relative         609 non-null    uint8\n",
      " 30  relation_Self             609 non-null    uint8\n",
      "dtypes: Int64(15), int64(1), uint8(15)\n",
      "memory usage: 118.7 KB\n"
     ]
    }
   ],
   "source": [
    "dummy_data.info()"
   ]
  },
  {
   "cell_type": "code",
   "execution_count": 30,
   "metadata": {},
   "outputs": [],
   "source": [
    "from sklearn.model_selection import train_test_split\n",
    "#spliting into train test split\n",
    "X= dummy_data.drop(columns='Class')\n",
    "y= dummy_data['Class'].astype('int')\n",
    "\n",
    "\n",
    "X_train, X_test, y_train, y_test= train_test_split(X, y, test_size=0.25, random_state=1234, stratify=y)"
   ]
  },
  {
   "cell_type": "code",
   "execution_count": 31,
   "metadata": {},
   "outputs": [
    {
     "data": {
      "text/plain": [
       "RandomForestClassifier(bootstrap=True, ccp_alpha=0.0, class_weight=None,\n",
       "                       criterion='gini', max_depth=None, max_features='auto',\n",
       "                       max_leaf_nodes=None, max_samples=None,\n",
       "                       min_impurity_decrease=0.0, min_impurity_split=None,\n",
       "                       min_samples_leaf=1, min_samples_split=2,\n",
       "                       min_weight_fraction_leaf=0.0, n_estimators=100,\n",
       "                       n_jobs=None, oob_score=False, random_state=None,\n",
       "                       verbose=0, warm_start=False)"
      ]
     },
     "execution_count": 31,
     "metadata": {},
     "output_type": "execute_result"
    }
   ],
   "source": [
    "#Implementing the Random Forest Classifier\n",
    "from sklearn.ensemble import RandomForestClassifier\n",
    "clf= RandomForestClassifier(n_estimators=100)\n",
    "clf.fit(X_train, y_train)"
   ]
  },
  {
   "cell_type": "code",
   "execution_count": 32,
   "metadata": {},
   "outputs": [
    {
     "data": {
      "image/png": "[encoded data removed]",
      "text/plain": [
       "<Figure size 432x288 with 1 Axes>"
      ]
     },
     "metadata": {
      "needs_background": "light"
     },
     "output_type": "display_data"
    }
   ],
   "source": [
    "#Feature Importance\n",
    "feature_importance=pd.Series(clf.feature_importances_, index=X_train.columns).sort_values(ascending=False)\n",
    "sns.barplot(x=feature_importance, y=feature_importance.index)\n",
    "plt.show()"
   ]
  },
  {
   "cell_type": "code",
   "execution_count": 33,
   "metadata": {},
   "outputs": [
    {
     "name": "stdout",
     "output_type": "stream",
     "text": [
      "[[108   0]\n",
      " [  0  45]]\n"
     ]
    },
    {
     "data": {
      "image/png": "[encoded data removed]",
      "text/plain": [
       "<Figure size 432x288 with 2 Axes>"
      ]
     },
     "metadata": {
      "needs_background": "light"
     },
     "output_type": "display_data"
    }
   ],
   "source": [
    "#Confusion matrix for the test data\n",
    "pred=clf.predict(X_test)\n",
    "from sklearn.metrics import confusion_matrix\n",
    "print(confusion_matrix(y_test, pred))\n",
    "\n",
    "from sklearn.metrics import plot_confusion_matrix\n",
    "plot_confusion_matrix(clf, X_test, y_test, normalize='all')\n",
    "plt.show()"
   ]
  },
  {
   "cell_type": "code",
   "execution_count": 34,
   "metadata": {},
   "outputs": [
    {
     "data": {
      "text/plain": [
       "<sklearn.metrics._plot.roc_curve.RocCurveDisplay at 0x164811f70c8>"
      ]
     },
     "execution_count": 34,
     "metadata": {},
     "output_type": "execute_result"
    },
    {
     "data": {
      "image/png": "[encoded data removed]",
      "text/plain": [
       "<Figure size 432x288 with 1 Axes>"
      ]
     },
     "metadata": {
      "needs_background": "light"
     },
     "output_type": "display_data"
    }
   ],
   "source": [
    "#ROC Curve\n",
    "from sklearn.metrics import plot_roc_curve\n",
    "plot_roc_curve(clf, X_test, y_test)"
   ]
  },
  {
   "cell_type": "code",
   "execution_count": 35,
   "metadata": {},
   "outputs": [
    {
     "data": {
      "text/plain": [
       "['RF_Classifier.joblib']"
      ]
     },
     "execution_count": 35,
     "metadata": {},
     "output_type": "execute_result"
    }
   ],
   "source": [
    "#saving the model\n",
    "from joblib import dump, load\n",
    "dump(clf,'RF_Classifier.joblib')"
   ]
  }
 ],
 "metadata": {
  "kernelspec": {
   "display_name": "Python 3",
   "language": "python",
   "name": "python3"
  },
  "language_info": {
   "codemirror_mode": {
    "name": "ipython",
    "version": 3
   },
   "file_extension": ".py",
   "mimetype": "text/x-python",
   "name": "python",
   "nbconvert_exporter": "python",
   "pygments_lexer": "ipython3",
   "version": "3.7.6"
  }
 },
 "nbformat": 4,
 "nbformat_minor": 4
}
